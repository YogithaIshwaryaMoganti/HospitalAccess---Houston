{
 "cells": [
  {
   "cell_type": "code",
   "execution_count": 1,
   "id": "3dd5cbce",
   "metadata": {},
   "outputs": [],
   "source": [
    "import osmnx as ox\n",
    "import pandas as pd"
   ]
  },
  {
   "cell_type": "code",
   "execution_count": 2,
   "id": "8cc8451f",
   "metadata": {},
   "outputs": [],
   "source": [
    "city = 'Houston, Texas, USA'\n",
    "tags = {'healthcare': ['clinic','dentist','doctors','hospital','nursing_home','social_facility']}\n",
    "pois = ox.geometries_from_place(city, tags)"
   ]
  },
  {
   "cell_type": "code",
   "execution_count": 3,
   "id": "c32c5291",
   "metadata": {},
   "outputs": [],
   "source": [
    "df = pd.DataFrame(pois)"
   ]
  },
  {
   "cell_type": "code",
   "execution_count": 4,
   "id": "fba8d1aa",
   "metadata": {},
   "outputs": [],
   "source": [
    "df.to_csv('hospitals.csv', index=False)"
   ]
  },
  {
   "cell_type": "code",
   "execution_count": 5,
   "id": "2f7b2e06",
   "metadata": {},
   "outputs": [],
   "source": [
    "from IPython.display import FileLink"
   ]
  },
  {
   "cell_type": "code",
   "execution_count": 6,
   "id": "74b48dbf",
   "metadata": {},
   "outputs": [
    {
     "data": {
      "text/html": [
       "<a href='hospitals.csv' target='_blank'>hospitals.csv</a><br>"
      ],
      "text/plain": [
       "/Users/saikirankandulapati/Downloads/CNST PROJECT/hospitals.csv"
      ]
     },
     "execution_count": 6,
     "metadata": {},
     "output_type": "execute_result"
    }
   ],
   "source": [
    "FileLink('hospitals.csv')"
   ]
  },
  {
   "cell_type": "code",
   "execution_count": null,
   "id": "b6d7c63a",
   "metadata": {},
   "outputs": [],
   "source": []
  }
 ],
 "metadata": {
  "kernelspec": {
   "display_name": "Python 3 (ipykernel)",
   "language": "python",
   "name": "python3"
  },
  "language_info": {
   "codemirror_mode": {
    "name": "ipython",
    "version": 3
   },
   "file_extension": ".py",
   "mimetype": "text/x-python",
   "name": "python",
   "nbconvert_exporter": "python",
   "pygments_lexer": "ipython3",
   "version": "3.9.7"
  }
 },
 "nbformat": 4,
 "nbformat_minor": 5
}
